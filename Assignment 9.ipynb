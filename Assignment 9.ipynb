{
 "cells": [
  {
   "cell_type": "code",
   "execution_count": null,
   "id": "55327894-3666-4605-a4f8-1b09b6387d74",
   "metadata": {},
   "outputs": [],
   "source": [
    "Q1, Create a vehicle class with an init method having instance variables as name_of_vehicle, max_speed\n",
    "and average_of_vehicle."
   ]
  },
  {
   "cell_type": "code",
   "execution_count": null,
   "id": "8c30ec93-3295-46de-82cf-9a2c0058eb5e",
   "metadata": {},
   "outputs": [],
   "source": [
    "class Vehicle:\n",
    "    def __init__(self, name_of_vehicle, max_speed, average_of_vehicle):\n",
    "        self.name_of_vehicle = name_of_vehicle\n",
    "        self.max_speed = max_speed\n",
    "        self.average_of_vehicle = average_of_vehicle"
   ]
  },
  {
   "cell_type": "code",
   "execution_count": null,
   "id": "9fa86905-f41a-4761-82cf-522a02124c7a",
   "metadata": {},
   "outputs": [],
   "source": [
    "Q2. Create a child class car from the vehicle class created in Que 1, which will inherit the vehicle class.\n",
    "Create a method named seating_capacity which takes capacity as an argument and returns the name of\n",
    "the vehicle and its seating capacity."
   ]
  },
  {
   "cell_type": "code",
   "execution_count": null,
   "id": "b53942d8-e556-4a8f-873b-881f13a488ea",
   "metadata": {},
   "outputs": [],
   "source": [
    "class Car(Vehicle):\n",
    "    def seating_capacity(self, capacity):\n",
    "        return f\"The {self.name_of_vehicle} has a seating capacity of {capacity}.\"\n"
   ]
  },
  {
   "cell_type": "code",
   "execution_count": 26,
   "id": "44d1aa40-caef-45f7-848d-ee543202e0c3",
   "metadata": {},
   "outputs": [
    {
     "ename": "NameError",
     "evalue": "name 'Car' is not defined",
     "output_type": "error",
     "traceback": [
      "\u001b[0;31m---------------------------------------------------------------------------\u001b[0m",
      "\u001b[0;31mNameError\u001b[0m                                 Traceback (most recent call last)",
      "Cell \u001b[0;32mIn[26], line 1\u001b[0m\n\u001b[0;32m----> 1\u001b[0m car1 \u001b[38;5;241m=\u001b[39m \u001b[43mCar\u001b[49m(\u001b[38;5;124m\"\u001b[39m\u001b[38;5;124mCar 1\u001b[39m\u001b[38;5;124m\"\u001b[39m, \u001b[38;5;241m200\u001b[39m, \u001b[38;5;241m50\u001b[39m)\n\u001b[1;32m      2\u001b[0m \u001b[38;5;28mtype\u001b[39m(car1)\n",
      "\u001b[0;31mNameError\u001b[0m: name 'Car' is not defined"
     ]
    }
   ],
   "source": [
    "car1 = Car(\"Car 1\", 200, 50)\n",
    "type(car1)\n",
    "apacity = 4\n",
    "print(car1.seating_capacity(capacity))"
   ]
  },
  {
   "cell_type": "code",
   "execution_count": null,
   "id": "75a0df67-2f73-4686-9a62-3f310b02f227",
   "metadata": {},
   "outputs": [],
   "source": [
    "Q3. What is multiple inheritance? Write a python code to demonstrate multiple inheritance."
   ]
  },
  {
   "cell_type": "code",
   "execution_count": null,
   "id": "c39dece9-755e-4507-9e1e-ac838a9dd6de",
   "metadata": {},
   "outputs": [],
   "source": [
    "\n",
    "\"\"\"Multiple inheritance is a feature in object-oriented programming languages where a class can inherit attributes and methods from \n",
    "multiple parent classes. In other words, a class can have more than one direct superclass, allowing it to inherit and combine the\n",
    "characteristics of multiple classes.\"\"\""
   ]
  },
  {
   "cell_type": "code",
   "execution_count": 27,
   "id": "aa57e251-9c2c-4d75-8378-186076a96413",
   "metadata": {},
   "outputs": [
    {
     "name": "stdout",
     "output_type": "stream",
     "text": [
      "Car is moving.\n",
      "Airplane is moving.\n",
      "Vehicle is flying.\n"
     ]
    },
    {
     "data": {
      "text/plain": [
       "'Airplane 1'"
      ]
     },
     "execution_count": 27,
     "metadata": {},
     "output_type": "execute_result"
    }
   ],
   "source": [
    "class Vehicle:\n",
    "    def __init__(self, name):\n",
    "        self.name = name\n",
    "\n",
    "    def get_name(self):\n",
    "        return self.name\n",
    "\n",
    "    def move(self):\n",
    "        print(\"Vehicle is moving.\")\n",
    "\n",
    "class Flyable:\n",
    "    def fly(self):\n",
    "        print(\"Vehicle is flying.\")\n",
    "\n",
    "class Car(Vehicle):\n",
    "    def move(self):\n",
    "        print(\"Car is moving.\")\n",
    "\n",
    "class Airplane(Vehicle, Flyable):\n",
    "    def move(self):\n",
    "        print(\"Airplane is moving.\")\n",
    "\n",
    "car = Car(\"Car 1\")\n",
    "car.move()\n",
    "car.get_name()\n",
    "\n",
    "airplane = Airplane(\"Airplane 1\")\n",
    "airplane.move()\n",
    "airplane.fly()\n",
    "airplane.get_name()"
   ]
  },
  {
   "cell_type": "code",
   "execution_count": null,
   "id": "1765ecc9-73a2-4b4f-9ecc-17ea32b60741",
   "metadata": {},
   "outputs": [],
   "source": [
    "Q4. What are getter and setter in python? Create a class and create a getter and a setter method in this\n",
    "class."
   ]
  },
  {
   "cell_type": "code",
   "execution_count": 28,
   "id": "a83dcf2d-5c64-4e8c-8d12-1a5f2455c587",
   "metadata": {},
   "outputs": [
    {
     "name": "stdout",
     "output_type": "stream",
     "text": [
      "John\n",
      "Jane\n"
     ]
    }
   ],
   "source": [
    "\"\"\"In Python, getter and setter methods are used to access and modify the values of private attributes in a class. They provide a way\n",
    "to control how attribute values are accessed and updated, allowing for encapsulation and data abstraction.\n",
    "\n",
    "A getter method, also known as an accessor method, is used to retrieve the value of a private attribute. It typically has the prefix \n",
    "\"get_\" followed by the attribute name. Getter methods are used to provide read-only access to the private attributes.\n",
    "\n",
    "A setter method, also known as a mutator method, is used to set or update the value of a private attribute. It typically has the\n",
    "prefix \"set_\" followed by the attribute name. Setter methods are used to provide controlled write access to the private attributes.\"\"\"\n",
    "\n",
    "class Person:\n",
    "    def __init__(self, name):\n",
    "        self._name = name\n",
    "\n",
    "    def get_name(self):\n",
    "        return self._name\n",
    "\n",
    "    def set_name(self, new_name):\n",
    "        self._name = new_name\n",
    "\n",
    "# Create an instance of the Person class\n",
    "person = Person(\"John\")\n",
    "\n",
    "# Use the getter method to retrieve the name\n",
    "print(person.get_name())  # Output: John\n",
    "\n",
    "# Use the setter method to update the name\n",
    "person.set_name(\"Jane\")\n",
    "\n",
    "# Use the getter method again to retrieve the updated name\n",
    "print(person.get_name())  # Output: Jane"
   ]
  },
  {
   "cell_type": "code",
   "execution_count": null,
   "id": "e27f6207-dac7-4e1d-96a4-0825710f89bd",
   "metadata": {},
   "outputs": [],
   "source": [
    "Q5.What is method overriding in python? Write a python code to demonstrate method overriding."
   ]
  },
  {
   "cell_type": "code",
   "execution_count": 29,
   "id": "44515042-8a08-4357-a277-8d71735a94d2",
   "metadata": {},
   "outputs": [
    {
     "name": "stdout",
     "output_type": "stream",
     "text": [
      "Vehicle is moving.\n",
      "Car is moving.\n",
      "Motorcycle is moving.\n"
     ]
    }
   ],
   "source": [
    "\"\"\"Method overriding in Python occurs when a subclass defines a method with the same name as a method in its superclass. \n",
    "The method in the subclass overrides the implementation of the method in the superclass, allowing the subclass to provide its\n",
    "own implementation.\n",
    "When an overridden method is called on an instance of the subclass, the overridden method in the subclass is executed instead of\n",
    "the method in the superclass.\"\"\"\n",
    "\n",
    "class Vehicle:\n",
    "    def move(self):\n",
    "        print(\"Vehicle is moving.\")\n",
    "\n",
    "class Car(Vehicle):\n",
    "    def move(self):\n",
    "        print(\"Car is moving.\")\n",
    "\n",
    "class Motorcycle(Vehicle):\n",
    "    def move(self):\n",
    "        print(\"Motorcycle is moving.\")\n",
    "\n",
    "vehicle = Vehicle()\n",
    "vehicle.move()  # Output: Vehicle is moving.\n",
    "\n",
    "car = Car()\n",
    "car.move()  # Output: Car is moving.\n",
    "\n",
    "motorcycle = Motorcycle()\n",
    "motorcycle.move()  # Output: Motorcycle is moving."
   ]
  },
  {
   "cell_type": "code",
   "execution_count": null,
   "id": "80680fb2-d24f-4c19-8dd5-41e474c65770",
   "metadata": {},
   "outputs": [],
   "source": []
  }
 ],
 "metadata": {
  "kernelspec": {
   "display_name": "Python 3 (ipykernel)",
   "language": "python",
   "name": "python3"
  },
  "language_info": {
   "codemirror_mode": {
    "name": "ipython",
    "version": 3
   },
   "file_extension": ".py",
   "mimetype": "text/x-python",
   "name": "python",
   "nbconvert_exporter": "python",
   "pygments_lexer": "ipython3",
   "version": "3.10.8"
  }
 },
 "nbformat": 4,
 "nbformat_minor": 5
}
